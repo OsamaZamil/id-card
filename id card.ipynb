{
 "cells": [
  {
   "cell_type": "markdown",
   "id": "e80a5073",
   "metadata": {},
   "source": [
    "# Setup and Installation:"
   ]
  },
  {
   "cell_type": "code",
   "execution_count": 12,
   "id": "4576828c",
   "metadata": {},
   "outputs": [
    {
     "name": "stdout",
     "output_type": "stream",
     "text": [
      "Requirement already satisfied: pytesseract in c:\\users\\user\\anaconda3\\lib\\site-packages (0.3.10)\n",
      "Requirement already satisfied: packaging>=21.3 in c:\\users\\user\\anaconda3\\lib\\site-packages (from pytesseract) (23.0)\n",
      "Requirement already satisfied: Pillow>=8.0.0 in c:\\users\\user\\anaconda3\\lib\\site-packages (from pytesseract) (10.3.0)\n"
     ]
    }
   ],
   "source": [
    "!pip install pytesseract"
   ]
  },
  {
   "cell_type": "markdown",
   "id": "cfa097b0",
   "metadata": {},
   "source": [
    "# Image Preprocessing:"
   ]
  },
  {
   "cell_type": "code",
   "execution_count": 1,
   "id": "5f6ba69f",
   "metadata": {},
   "outputs": [],
   "source": [
    "import cv2\n",
    "import pytesseract\n",
    "from PIL import Image\n",
    "import numpy as np"
   ]
  },
  {
   "cell_type": "code",
   "execution_count": 2,
   "id": "b4b2116b",
   "metadata": {},
   "outputs": [],
   "source": [
    "image = cv2.imread('jordan-id-card-template_3_cp.jpg')\n",
    "\n",
    "cv2.imshow('Original Image', image)\n",
    "cv2.waitKey(0)\n",
    "cv2.destroyAllWindows()"
   ]
  },
  {
   "cell_type": "code",
   "execution_count": 3,
   "id": "63c5dffb",
   "metadata": {},
   "outputs": [],
   "source": [
    "gray = cv2.cvtColor(image, cv2.COLOR_BGR2GRAY)\n",
    "blurred = cv2.GaussianBlur(gray, (5, 5), 0)\n",
    "edged = cv2.Canny(blurred, 50, 150)"
   ]
  },
  {
   "cell_type": "code",
   "execution_count": 4,
   "id": "c4dba5c6",
   "metadata": {},
   "outputs": [],
   "source": [
    "contours, _ = cv2.findContours(edged.copy(), cv2.RETR_LIST, cv2.CHAIN_APPROX_SIMPLE)\n",
    "contours = sorted(contours, key=cv2.contourArea, reverse=True)\n",
    "\n",
    "for c in contours:\n",
    "    peri = cv2.arcLength(c, True)\n",
    "    approx = cv2.approxPolyDP(c, 0.02 * peri, True)\n",
    "\n",
    "    if len(approx) == 4:\n",
    "        screenCnt = approx\n",
    "        break"
   ]
  },
  {
   "cell_type": "code",
   "execution_count": 6,
   "id": "4d52ec87",
   "metadata": {},
   "outputs": [
    {
     "name": "stdout",
     "output_type": "stream",
     "text": [
      "Collecting imutils\n",
      "  Downloading imutils-0.5.4.tar.gz (17 kB)\n",
      "  Preparing metadata (setup.py): started\n",
      "  Preparing metadata (setup.py): finished with status 'done'\n",
      "Building wheels for collected packages: imutils\n",
      "  Building wheel for imutils (setup.py): started\n",
      "  Building wheel for imutils (setup.py): finished with status 'done'\n",
      "  Created wheel for imutils: filename=imutils-0.5.4-py3-none-any.whl size=25854 sha256=3e4c068201c070cc307b3c722ab3298a1e3fbac95c91f70770b66d674e6b0c50\n",
      "  Stored in directory: c:\\users\\user\\appdata\\local\\pip\\cache\\wheels\\31\\d0\\2c\\87ce38f6052879e5b7b18f0f8b4a10ad2a9d210e908d449f16\n",
      "Successfully built imutils\n",
      "Installing collected packages: imutils\n",
      "Successfully installed imutils-0.5.4\n"
     ]
    }
   ],
   "source": [
    "!pip install imutils"
   ]
  },
  {
   "cell_type": "code",
   "execution_count": 7,
   "id": "6c9d784f",
   "metadata": {},
   "outputs": [],
   "source": [
    "from imutils.perspective import four_point_transform\n",
    "\n",
    "warped = four_point_transform(image, screenCnt.reshape(4, 2))"
   ]
  },
  {
   "cell_type": "code",
   "execution_count": 9,
   "id": "6dcc592d",
   "metadata": {},
   "outputs": [],
   "source": [
    "warped_gray = cv2.cvtColor(warped, cv2.COLOR_BGR2GRAY)\n",
    "\n",
    "thresh = cv2.adaptiveThreshold(warped_gray, 255, cv2.ADAPTIVE_THRESH_GAUSSIAN_C, cv2.THRESH_BINARY, 11, 2)"
   ]
  },
  {
   "cell_type": "code",
   "execution_count": 10,
   "id": "646bfa88",
   "metadata": {},
   "outputs": [],
   "source": [
    "cv2.imshow('Warped Image', warped)\n",
    "cv2.waitKey(0)\n",
    "cv2.destroyAllWindows()"
   ]
  },
  {
   "cell_type": "markdown",
   "id": "6624b761",
   "metadata": {},
   "source": [
    "# Text Recognition with Tesseract OCR:"
   ]
  },
  {
   "cell_type": "code",
   "execution_count": 14,
   "id": "c8cb5469",
   "metadata": {},
   "outputs": [],
   "source": [
    "pytesseract.pytesseract.tesseract_cmd = r'C:\\Program Files (x86)\\Tesseract-OCR\\tesseract.exe'"
   ]
  },
  {
   "cell_type": "code",
   "execution_count": 16,
   "id": "b7e6dda6",
   "metadata": {},
   "outputs": [
    {
     "name": "stdout",
     "output_type": "stream",
     "text": [
      "The Hashemite Kingdom of Jordan\n",
      "Ministry of Interior - Civil Status & Passport Dept.\n",
      "IDCard\n",
      "\n",
      "Aeedig! 2Sa,8) asta!\n",
      "Silently Abad Jig Yi 5510 - a\n",
      "ce\n",
      "\n",
      "2 ABU\n",
      "\n",
      "Sally Obl ye Opes)\n",
      "\n",
      "Sy\n",
      "\n",
      "0g00\n",
      "\n",
      "\n"
     ]
    }
   ],
   "source": [
    "import pytesseract\n",
    "from PIL import Image\n",
    "\n",
    "\n",
    "pil_image = Image.fromarray(image)\n",
    "\n",
    "extracted_text = pytesseract.image_to_string(pil_image)\n",
    "\n",
    "print(extracted_text)"
   ]
  },
  {
   "cell_type": "code",
   "execution_count": 17,
   "id": "4826954a",
   "metadata": {},
   "outputs": [],
   "source": [
    "custom_config = r'--psm 4'  # Assume a single column of text of variable sizes\n",
    "extracted_text = pytesseract.image_to_string(pil_image, config=custom_config)"
   ]
  },
  {
   "cell_type": "code",
   "execution_count": 18,
   "id": "b3f20fc2",
   "metadata": {},
   "outputs": [
    {
     "data": {
      "text/plain": [
       "'The Hashemite Kingdom of Jordan Aeadigt Aba,¥) aster\\nMinistry of Interior > Civil Status & Passport Dept. ij tasty AGN Jig) By bt0 Bate\\n1DCard Maia Baie)\\n\\nSells Ob! 96 Ope!\\n\\noge0\\n\\n'"
      ]
     },
     "execution_count": 18,
     "metadata": {},
     "output_type": "execute_result"
    }
   ],
   "source": [
    "extracted_text"
   ]
  },
  {
   "cell_type": "code",
   "execution_count": 19,
   "id": "a9e7e897",
   "metadata": {},
   "outputs": [],
   "source": [
    "import re\n",
    "\n",
    "# Example regex patterns for common ID fields\n",
    "name_pattern = r\"Name:\\s*(\\w+\\s\\w+)\"\n",
    "id_pattern = r\"ID:\\s*(\\d+)\"\n",
    "dob_pattern = r\"DOB:\\s*(\\d{2}/\\d{2}/\\d{4})\"\n",
    "\n",
    "# Search for patterns\n",
    "name_match = re.search(name_pattern, extracted_text)\n",
    "id_match = re.search(id_pattern, extracted_text)\n",
    "dob_match = re.search(dob_pattern, extracted_text)\n",
    "\n",
    "# Extract and print results\n",
    "if name_match:\n",
    "    print(f\"Name: {name_match.group(1)}\")\n",
    "if id_match:\n",
    "    print(f\"ID: {id_match.group(1)}\")\n",
    "if dob_match:\n",
    "    print(f\"DOB: {dob_match.group(1)}\")\n"
   ]
  },
  {
   "cell_type": "markdown",
   "id": "60ce8216",
   "metadata": {},
   "source": [
    "# Data Structuring:"
   ]
  },
  {
   "cell_type": "code",
   "execution_count": 20,
   "id": "ad1f39ae",
   "metadata": {},
   "outputs": [
    {
     "name": "stdout",
     "output_type": "stream",
     "text": [
      "         Name ID_Number Date_of_Birth\n",
      "0    John Doe  12345678    01/01/1990\n",
      "1  Jane Smith  87654321    02/02/1992\n"
     ]
    }
   ],
   "source": [
    "import pandas as pd\n",
    "\n",
    "# Example extracted data\n",
    "data = {\n",
    "    'Name': [],\n",
    "    'ID_Number': [],\n",
    "    'Date_of_Birth': []\n",
    "}\n",
    "\n",
    "# Assuming we have multiple images and extracted texts\n",
    "extracted_texts = [\n",
    "    \"Name: John Doe\\nID: 12345678\\nDOB: 01/01/1990\",\n",
    "    \"Name: Jane Smith\\nID: 87654321\\nDOB: 02/02/1992\"\n",
    "]\n",
    "\n",
    "# Define regex patterns\n",
    "name_pattern = r\"Name:\\s*(\\w+\\s\\w+)\"\n",
    "id_pattern = r\"ID:\\s*(\\d+)\"\n",
    "dob_pattern = r\"DOB:\\s*(\\d{2}/\\d{2}/\\d{4})\"\n",
    "\n",
    "# Extract data for each text\n",
    "for text in extracted_texts:\n",
    "    name_match = re.search(name_pattern, text)\n",
    "    id_match = re.search(id_pattern, text)\n",
    "    dob_match = re.search(dob_pattern, text)\n",
    "    \n",
    "    # Add to the data dictionary\n",
    "    if name_match and id_match and dob_match:\n",
    "        data['Name'].append(name_match.group(1))\n",
    "        data['ID_Number'].append(id_match.group(1))\n",
    "        data['Date_of_Birth'].append(dob_match.group(1))\n",
    "\n",
    "# Create DataFrame\n",
    "df = pd.DataFrame(data)\n",
    "\n",
    "# Display the DataFrame\n",
    "print(df)\n"
   ]
  },
  {
   "cell_type": "code",
   "execution_count": 21,
   "id": "92af05d2",
   "metadata": {},
   "outputs": [
    {
     "name": "stdout",
     "output_type": "stream",
     "text": [
      "         Name ID_Number Date_of_Birth\n",
      "0    John Doe  12345678    1990-01-01\n",
      "1  Jane Smith  87654321    1992-02-02\n"
     ]
    }
   ],
   "source": [
    "df['Date_of_Birth'] = pd.to_datetime(df['Date_of_Birth'], format='%d/%m/%Y', errors='coerce')\n",
    "\n",
    "df = df.dropna(subset=['Date_of_Birth'])\n",
    "\n",
    "print(df)\n"
   ]
  },
  {
   "cell_type": "code",
   "execution_count": 22,
   "id": "3a87a518",
   "metadata": {},
   "outputs": [],
   "source": [
    "df.to_csv('extracted_data.csv', index=False)\n",
    "\n",
    "df.to_excel('extracted_data.xlsx', index=False)\n"
   ]
  },
  {
   "cell_type": "markdown",
   "id": "bc13f8b2",
   "metadata": {},
   "source": [
    "# Testing and Validation:"
   ]
  },
  {
   "cell_type": "code",
   "execution_count": 25,
   "id": "721be200",
   "metadata": {},
   "outputs": [],
   "source": [
    "test_images = ['images (1).jpeg', 'images (2).jpeg', 'images 3.jpeg']  # List of test image paths\n",
    "extracted_data = []\n",
    "\n",
    "for image_path in test_images:\n",
    "    # Load and preprocess the image\n",
    "    image = cv2.imread(\"jordan-id-card-template_3_cp.jpg\")\n",
    "    \n",
    "    # Extract text\n",
    "    pil_image = Image.fromarray(image)\n",
    "    extracted_text = pytesseract.image_to_string(pil_image, config=custom_config)\n",
    "    \n",
    "    # Parse and structure the extracted text\n",
    "    name = re.search(name_pattern, extracted_text)\n",
    "    id_number = re.search(id_pattern, extracted_text)\n",
    "    dob = re.search(dob_pattern, extracted_text)\n",
    "\n",
    "    extracted_data.append({\n",
    "        'Name': name.group(1) if name else '',\n",
    "        'ID_Number': id_number.group(1) if id_number else '',\n",
    "        'Date_of_Birth': dob.group(1) if dob else ''\n",
    "    })\n",
    "\n",
    "# Create DataFrame\n",
    "df_extracted = pd.DataFrame(extracted_data)\n"
   ]
  },
  {
   "cell_type": "code",
   "execution_count": null,
   "id": "71f92f7a",
   "metadata": {},
   "outputs": [],
   "source": []
  }
 ],
 "metadata": {
  "kernelspec": {
   "display_name": "Python 3 (ipykernel)",
   "language": "python",
   "name": "python3"
  },
  "language_info": {
   "codemirror_mode": {
    "name": "ipython",
    "version": 3
   },
   "file_extension": ".py",
   "mimetype": "text/x-python",
   "name": "python",
   "nbconvert_exporter": "python",
   "pygments_lexer": "ipython3",
   "version": "3.11.4"
  }
 },
 "nbformat": 4,
 "nbformat_minor": 5
}
